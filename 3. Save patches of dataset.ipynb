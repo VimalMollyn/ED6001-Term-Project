{
  "nbformat": 4,
  "nbformat_minor": 0,
  "metadata": {
    "colab": {
      "name": "3. Save patches of dataset.ipynb",
      "provenance": [],
      "authorship_tag": "ABX9TyPk+sM9/f0xRm99+d6Zfjg1",
      "include_colab_link": true
    },
    "kernelspec": {
      "name": "python3",
      "display_name": "Python 3"
    },
    "language_info": {
      "name": "python"
    }
  },
  "cells": [
    {
      "cell_type": "markdown",
      "metadata": {
        "id": "view-in-github",
        "colab_type": "text"
      },
      "source": [
        "<a href=\"https://colab.research.google.com/github/VimalMollyn/ED6001-Term-Project/blob/colab/3.%20Save%20patches%20of%20dataset.ipynb\" target=\"_parent\"><img src=\"https://colab.research.google.com/assets/colab-badge.svg\" alt=\"Open In Colab\"/></a>"
      ]
    },
    {
      "cell_type": "code",
      "metadata": {
        "colab": {
          "base_uri": "https://localhost:8080/"
        },
        "id": "Ho0voa_ncgpq",
        "outputId": "aab73a22-b491-4b6a-8e1f-f4b0bedf64d1"
      },
      "source": [
        "from google.colab import drive\n",
        "drive.mount('/content/drive')"
      ],
      "execution_count": null,
      "outputs": [
        {
          "output_type": "stream",
          "name": "stdout",
          "text": [
            "Mounted at /content/drive\n"
          ]
        }
      ]
    },
    {
      "cell_type": "code",
      "metadata": {
        "colab": {
          "base_uri": "https://localhost:8080/"
        },
        "id": "mfhTRm7ScpV7",
        "outputId": "67a20f5f-59fc-4235-86a7-c2e51067f9d3"
      },
      "source": [
        "!git clone https://github.com/VimalMollyn/ED6001-Term-Project.git"
      ],
      "execution_count": null,
      "outputs": [
        {
          "output_type": "stream",
          "name": "stdout",
          "text": [
            "Cloning into 'ED6001-Term-Project'...\n",
            "remote: Enumerating objects: 66, done.\u001b[K\n",
            "remote: Counting objects: 100% (66/66), done.\u001b[K\n",
            "remote: Compressing objects: 100% (52/52), done.\u001b[K\n",
            "remote: Total 66 (delta 22), reused 40 (delta 11), pack-reused 0\u001b[K\n",
            "Unpacking objects: 100% (66/66), done.\n"
          ]
        }
      ]
    },
    {
      "cell_type": "code",
      "metadata": {
        "id": "AHXbMDIzc7RC"
      },
      "source": [
        "import numpy as np\n",
        "from pathlib import Path\n",
        "import nibabel as nib\n",
        "import matplotlib.pyplot as plt\n",
        "from tqdm.notebook import tqdm_notebook\n",
        "\n",
        "import sys\n",
        "sys.path.insert(1, '/content/ED6001-Term-Project/Preprocessing/')\n",
        "from utils import *"
      ],
      "execution_count": null,
      "outputs": []
    },
    {
      "cell_type": "code",
      "metadata": {
        "id": "mmD6eL0jc80M"
      },
      "source": [
        "path_to_data = Path(\"/content/drive/MyDrive/ED6001_MIA_Term_Project/data/IXI-T1\")"
      ],
      "execution_count": null,
      "outputs": []
    },
    {
      "cell_type": "code",
      "metadata": {
        "colab": {
          "base_uri": "https://localhost:8080/"
        },
        "id": "zoIONN3kc_B6",
        "outputId": "f47b6b93-808b-48d5-d88c-210357959e14"
      },
      "source": [
        "## generate patch\n",
        "sample_file = next(path_to_data.iterdir())\n",
        "sample_nii_img = nib.load(sample_file)\n",
        "sample_img = sample_nii_img.get_fdata()\n",
        "print(sample_img.shape)"
      ],
      "execution_count": null,
      "outputs": [
        {
          "output_type": "stream",
          "name": "stdout",
          "text": [
            "(256, 256, 130)\n"
          ]
        }
      ]
    },
    {
      "cell_type": "code",
      "metadata": {
        "colab": {
          "base_uri": "https://localhost:8080/"
        },
        "id": "XLtx818igIDI",
        "outputId": "80994fc5-648a-41f7-9652-e8d90e069eb1"
      },
      "source": [
        "size = 32\n",
        "depth = 6\n",
        "stride = 8\n",
        "\n",
        "middle = sample_img.shape[-1]//2\n",
        "\n",
        "patch = sample_img[:size, :size, middle-depth//2:middle+depth//2].copy().transpose(2, 0, 1)\n",
        "print(patch.shape)\n",
        "patch = np.reshape(patch, (1, 1, depth, size, size))\n",
        "print(patch.shape)\n",
        "\n",
        "def generate_patch(params):\n",
        "    stride = 8\n",
        "    size = 32\n",
        "    depth = 6\n",
        "    num = 0\n",
        "    files = os.listdir(\"../data/dataset/Free/\")\n",
        "\n",
        "    for file in files:\n",
        "        free_img = nib.load(\"../data//dataset/Free/\" + file).get_data()\n",
        "        noised_img = nib.load(\"../data/dataset/noise_%d/%s\" % (level, file)).get_data()\n",
        "        free_img_set = None\n",
        "        noised_img_set = None\n",
        "        height, width, _ = free_img.shape\n",
        "        for y in range(0, height - size, stride):\n",
        "            for x in range(0, width - size, stride):\n",
        "                free_img_temp = free_img[y : y + size, x : x + size].copy().transpose(2, 0, 1)\n",
        "                noised_img_temp = noised_img[y : y + size, x : x + size].copy().transpose(2, 0, 1)\n",
        "                free_img_temp = np.reshape(free_img_temp, (1, 1, depth, size, size))\n",
        "                noised_img_temp = np.reshape(noised_img_temp, (1, 1, depth, size, size))\n",
        "\n",
        "                if free_img_set is None:\n",
        "                    free_img_set = free_img_temp\n",
        "                    noised_img_set = noised_img_temp\n",
        "                else:\n",
        "                    free_img_set = np.append(free_img_set, free_img_temp, axis=0)\n",
        "                    noised_img_set = np.append(noised_img_set, noised_img_temp, axis=0)\n",
        "        num += 1\n",
        "        print(\"-------\" + str(num) + \"-----------\")\n",
        "        print(noised_img_set.shape)\n",
        "        print(free_img_set.shape)\n",
        "        if not os.path.exists(\"../data/patchs32_32_%d/free/\" % level):\n",
        "            os.makedirs(\"../data/patchs32_32_%d/free/\" % level)\n",
        "            os.makedirs(\"../data/patchs32_32_%d/noised/\" % level)\n",
        "        np.save(\"../data/patchs32_32_%d/free/%d.npy\" % (level, num), free_img_set)\n",
        "        np.save(\"../data/patchs32_32_%d/noised/%d.npy\" % (level, num), noised_img_set)"
      ],
      "execution_count": null,
      "outputs": [
        {
          "output_type": "stream",
          "name": "stdout",
          "text": [
            "(6, 32, 32)\n",
            "(1, 1, 6, 32, 32)\n"
          ]
        }
      ]
    },
    {
      "cell_type": "code",
      "metadata": {
        "colab": {
          "base_uri": "https://localhost:8080/",
          "height": 283
        },
        "id": "gxWUMbU5gT90",
        "outputId": "f96ae0eb-1406-4f0c-cb97-8c9c653c69b3"
      },
      "source": [
        "plt.imshow(patch[0, 0, 1])"
      ],
      "execution_count": null,
      "outputs": [
        {
          "output_type": "execute_result",
          "data": {
            "text/plain": [
              "<matplotlib.image.AxesImage at 0x7fd651cc1b10>"
            ]
          },
          "metadata": {},
          "execution_count": 12
        },
        {
          "output_type": "display_data",
          "data": {
            "image/png": "[encoded data removed]",
            "text/plain": [
              "<Figure size 432x288 with 1 Axes>"
            ]
          },
          "metadata": {
            "needs_background": "light"
          }
        }
      ]
    },
    {
      "cell_type": "code",
      "metadata": {
        "id": "GkOnvSdIzQxc"
      },
      "source": [
        ""
      ],
      "execution_count": null,
      "outputs": []
    }
  ]
}