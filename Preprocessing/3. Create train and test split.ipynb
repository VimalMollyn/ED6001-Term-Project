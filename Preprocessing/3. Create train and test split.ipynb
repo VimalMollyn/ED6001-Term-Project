{
  "nbformat": 4,
  "nbformat_minor": 0,
  "metadata": {
    "colab": {
      "name": "3. Create train and test split",
      "provenance": [],
      "include_colab_link": true
    },
    "kernelspec": {
      "name": "python3",
      "display_name": "Python 3"
    },
    "language_info": {
      "name": "python"
    }
  },
  "cells": [
    {
      "cell_type": "markdown",
      "metadata": {
        "id": "view-in-github",
        "colab_type": "text"
      },
      "source": [
        "<a href=\"https://colab.research.google.com/github/VimalMollyn/ED6001-Term-Project/blob/colab/Preprocessing/3.%20Create%20train%20and%20test%20split.ipynb\" target=\"_parent\"><img src=\"https://colab.research.google.com/assets/colab-badge.svg\" alt=\"Open In Colab\"/></a>"
      ]
    },
    {
      "cell_type": "code",
      "metadata": {
        "colab": {
          "base_uri": "https://localhost:8080/"
        },
        "id": "Ce2pVnYpnc20",
        "outputId": "ba3930b7-8cb3-42a4-9292-9ec9e896d4b3"
      },
      "source": [
        "from google.colab import drive\n",
        "drive.mount('/content/drive')"
      ],
      "execution_count": 1,
      "outputs": [
        {
          "output_type": "stream",
          "name": "stdout",
          "text": [
            "Drive already mounted at /content/drive; to attempt to forcibly remount, call drive.mount(\"/content/drive\", force_remount=True).\n"
          ]
        }
      ]
    },
    {
      "cell_type": "code",
      "metadata": {
        "id": "3lqlu6HDnsjF"
      },
      "source": [
        "import pandas as pd\n",
        "from glob import glob\n",
        "from pathlib import Path\n"
      ],
      "execution_count": 2,
      "outputs": []
    },
    {
      "cell_type": "code",
      "metadata": {
        "id": "81WD-OjHtAZA"
      },
      "source": [
        "files = pd.DataFrame({\"filepath\": glob(\"/content/drive/MyDrive/ED6001_MIA_Term_Project/data/*/*\")})"
      ],
      "execution_count": 3,
      "outputs": []
    },
    {
      "cell_type": "code",
      "metadata": {
        "id": "rSiVqIljpJvj",
        "outputId": "3fa5f5ba-b005-4832-d67e-0fdff0e00f49",
        "colab": {
          "base_uri": "https://localhost:8080/",
          "height": 424
        }
      },
      "source": [
        "# filter out the HH files\n",
        "HH_df = files[files[\"filepath\"].str.contains(\"-HH-\", case=True, regex=True)].reset_index(drop=True)\n",
        "HH_df\n"
      ],
      "execution_count": 5,
      "outputs": [
        {
          "output_type": "execute_result",
          "data": {
            "text/html": [
              "<div>\n",
              "<style scoped>\n",
              "    .dataframe tbody tr th:only-of-type {\n",
              "        vertical-align: middle;\n",
              "    }\n",
              "\n",
              "    .dataframe tbody tr th {\n",
              "        vertical-align: top;\n",
              "    }\n",
              "\n",
              "    .dataframe thead th {\n",
              "        text-align: right;\n",
              "    }\n",
              "</style>\n",
              "<table border=\"1\" class=\"dataframe\">\n",
              "  <thead>\n",
              "    <tr style=\"text-align: right;\">\n",
              "      <th></th>\n",
              "      <th>filepath</th>\n",
              "    </tr>\n",
              "  </thead>\n",
              "  <tbody>\n",
              "    <tr>\n",
              "      <th>0</th>\n",
              "      <td>/content/drive/MyDrive/ED6001_MIA_Term_Project...</td>\n",
              "    </tr>\n",
              "    <tr>\n",
              "      <th>1</th>\n",
              "      <td>/content/drive/MyDrive/ED6001_MIA_Term_Project...</td>\n",
              "    </tr>\n",
              "    <tr>\n",
              "      <th>2</th>\n",
              "      <td>/content/drive/MyDrive/ED6001_MIA_Term_Project...</td>\n",
              "    </tr>\n",
              "    <tr>\n",
              "      <th>3</th>\n",
              "      <td>/content/drive/MyDrive/ED6001_MIA_Term_Project...</td>\n",
              "    </tr>\n",
              "    <tr>\n",
              "      <th>4</th>\n",
              "      <td>/content/drive/MyDrive/ED6001_MIA_Term_Project...</td>\n",
              "    </tr>\n",
              "    <tr>\n",
              "      <th>...</th>\n",
              "      <td>...</td>\n",
              "    </tr>\n",
              "    <tr>\n",
              "      <th>550</th>\n",
              "      <td>/content/drive/MyDrive/ED6001_MIA_Term_Project...</td>\n",
              "    </tr>\n",
              "    <tr>\n",
              "      <th>551</th>\n",
              "      <td>/content/drive/MyDrive/ED6001_MIA_Term_Project...</td>\n",
              "    </tr>\n",
              "    <tr>\n",
              "      <th>552</th>\n",
              "      <td>/content/drive/MyDrive/ED6001_MIA_Term_Project...</td>\n",
              "    </tr>\n",
              "    <tr>\n",
              "      <th>553</th>\n",
              "      <td>/content/drive/MyDrive/ED6001_MIA_Term_Project...</td>\n",
              "    </tr>\n",
              "    <tr>\n",
              "      <th>554</th>\n",
              "      <td>/content/drive/MyDrive/ED6001_MIA_Term_Project...</td>\n",
              "    </tr>\n",
              "  </tbody>\n",
              "</table>\n",
              "<p>555 rows × 1 columns</p>\n",
              "</div>"
            ],
            "text/plain": [
              "                                              filepath\n",
              "0    /content/drive/MyDrive/ED6001_MIA_Term_Project...\n",
              "1    /content/drive/MyDrive/ED6001_MIA_Term_Project...\n",
              "2    /content/drive/MyDrive/ED6001_MIA_Term_Project...\n",
              "3    /content/drive/MyDrive/ED6001_MIA_Term_Project...\n",
              "4    /content/drive/MyDrive/ED6001_MIA_Term_Project...\n",
              "..                                                 ...\n",
              "550  /content/drive/MyDrive/ED6001_MIA_Term_Project...\n",
              "551  /content/drive/MyDrive/ED6001_MIA_Term_Project...\n",
              "552  /content/drive/MyDrive/ED6001_MIA_Term_Project...\n",
              "553  /content/drive/MyDrive/ED6001_MIA_Term_Project...\n",
              "554  /content/drive/MyDrive/ED6001_MIA_Term_Project...\n",
              "\n",
              "[555 rows x 1 columns]"
            ]
          },
          "metadata": {},
          "execution_count": 5
        }
      ]
    },
    {
      "cell_type": "code",
      "metadata": {
        "id": "3kHyBbv4o8vb"
      },
      "source": [
        "HH_df[\"filepath\"] = HH_df[\"filepath\"].apply(lambda x: '/'.join(x.split('/')[-2:]))"
      ],
      "execution_count": 6,
      "outputs": []
    },
    {
      "cell_type": "code",
      "metadata": {
        "id": "ddHqkv0FqUas",
        "outputId": "85e839e3-7ef4-476a-a3fc-b41b7f493d41",
        "colab": {
          "base_uri": "https://localhost:8080/",
          "height": 424
        }
      },
      "source": [
        "HH_df"
      ],
      "execution_count": 7,
      "outputs": [
        {
          "output_type": "execute_result",
          "data": {
            "text/html": [
              "<div>\n",
              "<style scoped>\n",
              "    .dataframe tbody tr th:only-of-type {\n",
              "        vertical-align: middle;\n",
              "    }\n",
              "\n",
              "    .dataframe tbody tr th {\n",
              "        vertical-align: top;\n",
              "    }\n",
              "\n",
              "    .dataframe thead th {\n",
              "        text-align: right;\n",
              "    }\n",
              "</style>\n",
              "<table border=\"1\" class=\"dataframe\">\n",
              "  <thead>\n",
              "    <tr style=\"text-align: right;\">\n",
              "      <th></th>\n",
              "      <th>filepath</th>\n",
              "    </tr>\n",
              "  </thead>\n",
              "  <tbody>\n",
              "    <tr>\n",
              "      <th>0</th>\n",
              "      <td>IXI-PD/IXI012-HH-1211-PD.nii.gz</td>\n",
              "    </tr>\n",
              "    <tr>\n",
              "      <th>1</th>\n",
              "      <td>IXI-PD/IXI013-HH-1212-PD.nii.gz</td>\n",
              "    </tr>\n",
              "    <tr>\n",
              "      <th>2</th>\n",
              "      <td>IXI-PD/IXI014-HH-1236-PD.nii.gz</td>\n",
              "    </tr>\n",
              "    <tr>\n",
              "      <th>3</th>\n",
              "      <td>IXI-PD/IXI015-HH-1258-PD.nii.gz</td>\n",
              "    </tr>\n",
              "    <tr>\n",
              "      <th>4</th>\n",
              "      <td>IXI-PD/IXI033-HH-1259-PD.nii.gz</td>\n",
              "    </tr>\n",
              "    <tr>\n",
              "      <th>...</th>\n",
              "      <td>...</td>\n",
              "    </tr>\n",
              "    <tr>\n",
              "      <th>550</th>\n",
              "      <td>IXI-T1/IXI638-HH-2786-T1.nii.gz</td>\n",
              "    </tr>\n",
              "    <tr>\n",
              "      <th>551</th>\n",
              "      <td>IXI-T1/IXI643-HH-2787-T1.nii.gz</td>\n",
              "    </tr>\n",
              "    <tr>\n",
              "      <th>552</th>\n",
              "      <td>IXI-T1/IXI646-HH-2653-T1.nii.gz</td>\n",
              "    </tr>\n",
              "    <tr>\n",
              "      <th>553</th>\n",
              "      <td>IXI-T1/IXI661-HH-2788-T1.nii.gz</td>\n",
              "    </tr>\n",
              "    <tr>\n",
              "      <th>554</th>\n",
              "      <td>IXI-T1/IXI519-HH-2240-T1.nii.gz</td>\n",
              "    </tr>\n",
              "  </tbody>\n",
              "</table>\n",
              "<p>555 rows × 1 columns</p>\n",
              "</div>"
            ],
            "text/plain": [
              "                            filepath\n",
              "0    IXI-PD/IXI012-HH-1211-PD.nii.gz\n",
              "1    IXI-PD/IXI013-HH-1212-PD.nii.gz\n",
              "2    IXI-PD/IXI014-HH-1236-PD.nii.gz\n",
              "3    IXI-PD/IXI015-HH-1258-PD.nii.gz\n",
              "4    IXI-PD/IXI033-HH-1259-PD.nii.gz\n",
              "..                               ...\n",
              "550  IXI-T1/IXI638-HH-2786-T1.nii.gz\n",
              "551  IXI-T1/IXI643-HH-2787-T1.nii.gz\n",
              "552  IXI-T1/IXI646-HH-2653-T1.nii.gz\n",
              "553  IXI-T1/IXI661-HH-2788-T1.nii.gz\n",
              "554  IXI-T1/IXI519-HH-2240-T1.nii.gz\n",
              "\n",
              "[555 rows x 1 columns]"
            ]
          },
          "metadata": {},
          "execution_count": 7
        }
      ]
    },
    {
      "cell_type": "code",
      "metadata": {
        "id": "sTBRyulrqNv1",
        "outputId": "c1e41de0-f90b-4eb4-982b-021236455d17",
        "colab": {
          "base_uri": "https://localhost:8080/",
          "height": 424
        }
      },
      "source": [
        "sampled_files = HH_df.sample(n=110).reset_index(drop=True)\n",
        "sampled_files"
      ],
      "execution_count": 11,
      "outputs": [
        {
          "output_type": "execute_result",
          "data": {
            "text/html": [
              "<div>\n",
              "<style scoped>\n",
              "    .dataframe tbody tr th:only-of-type {\n",
              "        vertical-align: middle;\n",
              "    }\n",
              "\n",
              "    .dataframe tbody tr th {\n",
              "        vertical-align: top;\n",
              "    }\n",
              "\n",
              "    .dataframe thead th {\n",
              "        text-align: right;\n",
              "    }\n",
              "</style>\n",
              "<table border=\"1\" class=\"dataframe\">\n",
              "  <thead>\n",
              "    <tr style=\"text-align: right;\">\n",
              "      <th></th>\n",
              "      <th>filepath</th>\n",
              "    </tr>\n",
              "  </thead>\n",
              "  <tbody>\n",
              "    <tr>\n",
              "      <th>0</th>\n",
              "      <td>IXI-PD/IXI048-HH-1326-PD.nii.gz</td>\n",
              "    </tr>\n",
              "    <tr>\n",
              "      <th>1</th>\n",
              "      <td>IXI-T2/IXI440-HH-2127-T2.nii.gz</td>\n",
              "    </tr>\n",
              "    <tr>\n",
              "      <th>2</th>\n",
              "      <td>IXI-PD/IXI239-HH-2296-PD.nii.gz</td>\n",
              "    </tr>\n",
              "    <tr>\n",
              "      <th>3</th>\n",
              "      <td>IXI-T2/IXI278-HH-1771-T2.nii.gz</td>\n",
              "    </tr>\n",
              "    <tr>\n",
              "      <th>4</th>\n",
              "      <td>IXI-T2/IXI013-HH-1212-T2.nii.gz</td>\n",
              "    </tr>\n",
              "    <tr>\n",
              "      <th>...</th>\n",
              "      <td>...</td>\n",
              "    </tr>\n",
              "    <tr>\n",
              "      <th>105</th>\n",
              "      <td>IXI-T2/IXI160-HH-1637-T2.nii.gz</td>\n",
              "    </tr>\n",
              "    <tr>\n",
              "      <th>106</th>\n",
              "      <td>IXI-T1/IXI544-HH-2395-T1.nii.gz</td>\n",
              "    </tr>\n",
              "    <tr>\n",
              "      <th>107</th>\n",
              "      <td>IXI-T2/IXI634-HH-2690-T2.nii.gz</td>\n",
              "    </tr>\n",
              "    <tr>\n",
              "      <th>108</th>\n",
              "      <td>IXI-T1/IXI636-HH-2733-T1.nii.gz</td>\n",
              "    </tr>\n",
              "    <tr>\n",
              "      <th>109</th>\n",
              "      <td>IXI-T2/IXI439-HH-2114-T2.nii.gz</td>\n",
              "    </tr>\n",
              "  </tbody>\n",
              "</table>\n",
              "<p>110 rows × 1 columns</p>\n",
              "</div>"
            ],
            "text/plain": [
              "                            filepath\n",
              "0    IXI-PD/IXI048-HH-1326-PD.nii.gz\n",
              "1    IXI-T2/IXI440-HH-2127-T2.nii.gz\n",
              "2    IXI-PD/IXI239-HH-2296-PD.nii.gz\n",
              "3    IXI-T2/IXI278-HH-1771-T2.nii.gz\n",
              "4    IXI-T2/IXI013-HH-1212-T2.nii.gz\n",
              "..                               ...\n",
              "105  IXI-T2/IXI160-HH-1637-T2.nii.gz\n",
              "106  IXI-T1/IXI544-HH-2395-T1.nii.gz\n",
              "107  IXI-T2/IXI634-HH-2690-T2.nii.gz\n",
              "108  IXI-T1/IXI636-HH-2733-T1.nii.gz\n",
              "109  IXI-T2/IXI439-HH-2114-T2.nii.gz\n",
              "\n",
              "[110 rows x 1 columns]"
            ]
          },
          "metadata": {},
          "execution_count": 11
        }
      ]
    },
    {
      "cell_type": "code",
      "metadata": {
        "id": "1fw0XH0HqeOT",
        "outputId": "8ccc5826-692b-4299-d16e-619abfba1efc",
        "colab": {
          "base_uri": "https://localhost:8080/",
          "height": 424
        }
      },
      "source": [
        "train = sampled_files.iloc[:100]\n",
        "train"
      ],
      "execution_count": 13,
      "outputs": [
        {
          "output_type": "execute_result",
          "data": {
            "text/html": [
              "<div>\n",
              "<style scoped>\n",
              "    .dataframe tbody tr th:only-of-type {\n",
              "        vertical-align: middle;\n",
              "    }\n",
              "\n",
              "    .dataframe tbody tr th {\n",
              "        vertical-align: top;\n",
              "    }\n",
              "\n",
              "    .dataframe thead th {\n",
              "        text-align: right;\n",
              "    }\n",
              "</style>\n",
              "<table border=\"1\" class=\"dataframe\">\n",
              "  <thead>\n",
              "    <tr style=\"text-align: right;\">\n",
              "      <th></th>\n",
              "      <th>filepath</th>\n",
              "    </tr>\n",
              "  </thead>\n",
              "  <tbody>\n",
              "    <tr>\n",
              "      <th>0</th>\n",
              "      <td>IXI-PD/IXI048-HH-1326-PD.nii.gz</td>\n",
              "    </tr>\n",
              "    <tr>\n",
              "      <th>1</th>\n",
              "      <td>IXI-T2/IXI440-HH-2127-T2.nii.gz</td>\n",
              "    </tr>\n",
              "    <tr>\n",
              "      <th>2</th>\n",
              "      <td>IXI-PD/IXI239-HH-2296-PD.nii.gz</td>\n",
              "    </tr>\n",
              "    <tr>\n",
              "      <th>3</th>\n",
              "      <td>IXI-T2/IXI278-HH-1771-T2.nii.gz</td>\n",
              "    </tr>\n",
              "    <tr>\n",
              "      <th>4</th>\n",
              "      <td>IXI-T2/IXI013-HH-1212-T2.nii.gz</td>\n",
              "    </tr>\n",
              "    <tr>\n",
              "      <th>...</th>\n",
              "      <td>...</td>\n",
              "    </tr>\n",
              "    <tr>\n",
              "      <th>95</th>\n",
              "      <td>IXI-PD/IXI334-HH-1907-PD.nii.gz</td>\n",
              "    </tr>\n",
              "    <tr>\n",
              "      <th>96</th>\n",
              "      <td>IXI-PD/IXI437-HH-2152-PD.nii.gz</td>\n",
              "    </tr>\n",
              "    <tr>\n",
              "      <th>97</th>\n",
              "      <td>IXI-T2/IXI242-HH-1722-T2.nii.gz</td>\n",
              "    </tr>\n",
              "    <tr>\n",
              "      <th>98</th>\n",
              "      <td>IXI-T2/IXI353-HH-1996-T2.nii.gz</td>\n",
              "    </tr>\n",
              "    <tr>\n",
              "      <th>99</th>\n",
              "      <td>IXI-T1/IXI385-HH-2078-T1.nii.gz</td>\n",
              "    </tr>\n",
              "  </tbody>\n",
              "</table>\n",
              "<p>100 rows × 1 columns</p>\n",
              "</div>"
            ],
            "text/plain": [
              "                           filepath\n",
              "0   IXI-PD/IXI048-HH-1326-PD.nii.gz\n",
              "1   IXI-T2/IXI440-HH-2127-T2.nii.gz\n",
              "2   IXI-PD/IXI239-HH-2296-PD.nii.gz\n",
              "3   IXI-T2/IXI278-HH-1771-T2.nii.gz\n",
              "4   IXI-T2/IXI013-HH-1212-T2.nii.gz\n",
              "..                              ...\n",
              "95  IXI-PD/IXI334-HH-1907-PD.nii.gz\n",
              "96  IXI-PD/IXI437-HH-2152-PD.nii.gz\n",
              "97  IXI-T2/IXI242-HH-1722-T2.nii.gz\n",
              "98  IXI-T2/IXI353-HH-1996-T2.nii.gz\n",
              "99  IXI-T1/IXI385-HH-2078-T1.nii.gz\n",
              "\n",
              "[100 rows x 1 columns]"
            ]
          },
          "metadata": {},
          "execution_count": 13
        }
      ]
    },
    {
      "cell_type": "code",
      "metadata": {
        "id": "VDs7vtJEqwDs"
      },
      "source": [
        "test = sampled_files.iloc[100:]\n",
        "\n",
        "train.to_csv('train.csv', index=False)\n",
        "test.to_csv('test.csv', index=False)"
      ],
      "execution_count": 14,
      "outputs": []
    },
    {
      "cell_type": "code",
      "metadata": {
        "id": "7vmZ4TyUq74p"
      },
      "source": [
        ""
      ],
      "execution_count": null,
      "outputs": []
    }
  ]
}