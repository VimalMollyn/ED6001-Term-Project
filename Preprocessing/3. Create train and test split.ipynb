{
  "nbformat": 4,
  "nbformat_minor": 0,
  "metadata": {
    "colab": {
      "name": "3. Create train and test split",
      "provenance": [],
      "authorship_tag": "ABX9TyPm/JZHbIn7YvSbOosvXWbh",
      "include_colab_link": true
    },
    "kernelspec": {
      "name": "python3",
      "display_name": "Python 3"
    },
    "language_info": {
      "name": "python"
    }
  },
  "cells": [
    {
      "cell_type": "markdown",
      "metadata": {
        "id": "view-in-github",
        "colab_type": "text"
      },
      "source": [
        "<a href=\"https://colab.research.google.com/github/VimalMollyn/ED6001-Term-Project/blob/colab/Preprocessing/3.%20Create%20train%20and%20test%20split.ipynb\" target=\"_parent\"><img src=\"https://colab.research.google.com/assets/colab-badge.svg\" alt=\"Open In Colab\"/></a>"
      ]
    },
    {
      "cell_type": "code",
      "metadata": {
        "colab": {
          "base_uri": "https://localhost:8080/"
        },
        "id": "Ce2pVnYpnc20",
        "outputId": "013555d7-2660-4218-81ee-7896de04c17a"
      },
      "source": [
        "from google.colab import drive\n",
        "drive.mount('/content/drive')"
      ],
      "execution_count": 1,
      "outputs": [
        {
          "output_type": "stream",
          "name": "stdout",
          "text": [
            "Mounted at /content/drive\n"
          ]
        }
      ]
    },
    {
      "cell_type": "code",
      "metadata": {
        "id": "3lqlu6HDnsjF"
      },
      "source": [
        "from glob import glob\n",
        "import pandas as pd\n",
        "\n",
        "files = pd.DataFrame({\"filepath\": glob(\"/content/drive/MyDrive/ED6001_MIA_Term_Project/data/*/*\")})\n",
        "files[\"filepath\"] = files[\"filepath\"].apply(lambda x: '/'.join(x.split('/')[-2:]))\n",
        "train = files.sample(n=100)\n",
        "test = files.sample(n=10)\n",
        "\n",
        "train.to_csv('train.csv', index=False)\n",
        "test.to_csv('test.csv', index=False)"
      ],
      "execution_count": 3,
      "outputs": []
    },
    {
      "cell_type": "code",
      "metadata": {
        "id": "81WD-OjHtAZA"
      },
      "source": [
        ""
      ],
      "execution_count": null,
      "outputs": []
    }
  ]
}