{
 "cells": [
  {
   "cell_type": "code",
   "execution_count": 1,
   "metadata": {},
   "outputs": [],
   "source": [
    "import nibabel as nib\n",
    "from pathlib import Path\n",
    "import matplotlib.pyplot as plt\n",
    "import pandas as pd\n",
    "import numpy as np"
   ]
  },
  {
   "cell_type": "code",
   "execution_count": 2,
   "metadata": {},
   "outputs": [],
   "source": [
    "train_files = pd.read_csv(\"../train.csv\")\n",
    "test_files = pd.read_csv(\"../test.csv\")"
   ]
  },
  {
   "cell_type": "code",
   "execution_count": 3,
   "metadata": {},
   "outputs": [],
   "source": [
    "train_files[\"Type\"] = train_files[\"filepath\"].str.rstrip(\".nii.gz\").str.rsplit(\"-\", 1).str[1]\n",
    "test_files[\"Type\"] = test_files[\"filepath\"].str.rstrip(\".nii.gz\").str.rsplit(\"-\", 1).str[1]"
   ]
  },
  {
   "cell_type": "code",
   "execution_count": 4,
   "metadata": {},
   "outputs": [],
   "source": [
    "T1_train_files = train_files[train_files[\"Type\"] == \"T1\"].index.values\n",
    "T2_train_files = train_files[train_files[\"Type\"] == \"T2\"].index.values\n",
    "PD_train_files = train_files[train_files[\"Type\"] == \"PD\"].index.values\n",
    "\n",
    "T1_test_files = test_files[test_files[\"Type\"] == \"T1\"].index.values\n",
    "T2_test_files = test_files[test_files[\"Type\"] == \"T2\"].index.values\n",
    "PD_test_files = test_files[test_files[\"Type\"] == \"PD\"].index.values"
   ]
  },
  {
   "cell_type": "code",
   "execution_count": 5,
   "metadata": {},
   "outputs": [
    {
     "data": {
      "text/plain": [
       "(array([4, 6, 8]), array([1, 5, 7, 9]), array([0, 2, 3]))"
      ]
     },
     "execution_count": 5,
     "metadata": {},
     "output_type": "execute_result"
    }
   ],
   "source": [
    "T1_test_files, T2_test_files, PD_test_files"
   ]
  },
  {
   "cell_type": "code",
   "execution_count": 6,
   "metadata": {},
   "outputs": [],
   "source": [
    "path_to_train_data = Path(\"../../MIA/train/data\")\n",
    "path_to_train_noisy = Path(\"../../MIA/train/noisy\")\n",
    "path_to_test_data = Path(\"../../MIA/test/data\")\n",
    "path_to_test_noisy = Path(\"../../MIA/test/noisy\")\n",
    "\n",
    "## get the histograms of all types in train and test\n",
    "\n",
    "## T1\n",
    "T1_train_imgs_data = []\n",
    "T1_train_imgs_noisy = []\n",
    "\n",
    "for file_index in T1_train_files:\n",
    "    # get data image\n",
    "    filepath = path_to_train_data / f\"{file_index+1}.nii.gz\"\n",
    "    img = nib.load(filepath).get_fdata()\n",
    "    \n",
    "    T1_train_imgs_data.append(img.flatten())\n",
    "    \n",
    "    # get noisy image\n",
    "    filepath = path_to_train_noisy / f\"{file_index+1}.nii.gz\"\n",
    "    img = nib.load(filepath).get_fdata()\n",
    "    T1_train_imgs_noisy.append(img.flatten())\n",
    "    \n",
    "## T2\n",
    "T2_train_imgs_data = []\n",
    "T2_train_imgs_noisy = []\n",
    "\n",
    "for file_index in T2_train_files:\n",
    "    # get data image\n",
    "    filepath = path_to_train_data / f\"{file_index+1}.nii.gz\"\n",
    "    img = nib.load(filepath).get_fdata()\n",
    "    \n",
    "    T2_train_imgs_data.append(img.flatten())\n",
    "    \n",
    "    # get noisy image\n",
    "    filepath = path_to_train_noisy / f\"{file_index+1}.nii.gz\"\n",
    "    img = nib.load(filepath).get_fdata()\n",
    "    T2_train_imgs_noisy.append(img.flatten())\n",
    "    \n",
    "## PD\n",
    "PD_train_imgs_data = []\n",
    "PD_train_imgs_noisy = []\n",
    "\n",
    "for file_index in PD_train_files:\n",
    "    # get data image\n",
    "    filepath = path_to_train_data / f\"{file_index+1}.nii.gz\"\n",
    "    img = nib.load(filepath).get_fdata()\n",
    "    \n",
    "    PD_train_imgs_data.append(img.flatten())\n",
    "    \n",
    "    # get noisy image\n",
    "    filepath = path_to_train_noisy / f\"{file_index+1}.nii.gz\"\n",
    "    img = nib.load(filepath).get_fdata()\n",
    "    PD_train_imgs_noisy.append(img.flatten())"
   ]
  },
  {
   "cell_type": "code",
   "execution_count": 7,
   "metadata": {},
   "outputs": [
    {
     "data": {
      "image/png": "[encoded data removed]",
      "text/plain": [
       "<Figure size 720x360 with 2 Axes>"
      ]
     },
     "metadata": {
      "needs_background": "light"
     },
     "output_type": "display_data"
    }
   ],
   "source": [
    "## plot the hisogram of values for each\n",
    "fig, ax = plt.subplots(ncols=2, figsize=(10, 5))\n",
    "ax[0].hist(np.concatenate(T1_train_imgs_data, axis=0))\n",
    "ax[0].set_title(\"data\")\n",
    "ax[1].hist(np.concatenate(T1_train_imgs_noisy, axis=0))\n",
    "ax[1].set_title(\"noisy\")\n",
    "plt.show()"
   ]
  },
  {
   "cell_type": "code",
   "execution_count": 8,
   "metadata": {},
   "outputs": [
    {
     "data": {
      "image/png": "[encoded data removed]",
      "text/plain": [
       "<Figure size 720x360 with 2 Axes>"
      ]
     },
     "metadata": {
      "needs_background": "light"
     },
     "output_type": "display_data"
    }
   ],
   "source": [
    "## plot the hisogram of values for each\n",
    "fig, ax = plt.subplots(ncols=2, figsize=(10, 5))\n",
    "ax[0].hist(np.concatenate(T2_train_imgs_data, axis=0))\n",
    "ax[0].set_title(\"data\")\n",
    "ax[1].hist(np.concatenate(T2_train_imgs_noisy, axis=0))\n",
    "ax[1].set_title(\"noisy\")\n",
    "plt.show()"
   ]
  },
  {
   "cell_type": "code",
   "execution_count": 9,
   "metadata": {},
   "outputs": [
    {
     "data": {
      "image/png": "[encoded data removed]",
      "text/plain": [
       "<Figure size 720x360 with 2 Axes>"
      ]
     },
     "metadata": {
      "needs_background": "light"
     },
     "output_type": "display_data"
    }
   ],
   "source": [
    "## plot the hisogram of values for each\n",
    "fig, ax = plt.subplots(ncols=2, figsize=(10, 5))\n",
    "ax[0].hist(np.concatenate(PD_train_imgs_data, axis=0))\n",
    "ax[0].set_title(\"data\")\n",
    "ax[1].hist(np.concatenate(PD_train_imgs_noisy, axis=0))\n",
    "ax[1].set_title(\"noisy\")\n",
    "plt.show()\n"
   ]
  },
  {
   "cell_type": "code",
   "execution_count": null,
   "metadata": {},
   "outputs": [],
   "source": []
  }
 ],
 "metadata": {
  "kernelspec": {
   "display_name": "Python 3 (ipykernel)",
   "language": "python",
   "name": "python3"
  },
  "language_info": {
   "codemirror_mode": {
    "name": "ipython",
    "version": 3
   },
   "file_extension": ".py",
   "mimetype": "text/x-python",
   "name": "python",
   "nbconvert_exporter": "python",
   "pygments_lexer": "ipython3",
   "version": "3.8.10"
  }
 },
 "nbformat": 4,
 "nbformat_minor": 4
}
