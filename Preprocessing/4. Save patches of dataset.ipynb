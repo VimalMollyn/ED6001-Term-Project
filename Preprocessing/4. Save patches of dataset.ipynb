{
  "nbformat": 4,
  "nbformat_minor": 0,
  "metadata": {
    "colab": {
      "name": "4. Save patches of dataset.ipynb",
      "provenance": [],
      "include_colab_link": true
    },
    "kernelspec": {
      "name": "python3",
      "display_name": "Python 3"
    },
    "language_info": {
      "name": "python"
    },
    "widgets": {
      "application/vnd.jupyter.widget-state+json": {
        "723d4a48952148068ec85aa8182184f8": {
          "model_module": "@jupyter-widgets/controls",
          "model_name": "HBoxModel",
          "model_module_version": "1.5.0",
          "state": {
            "_view_name": "HBoxView",
            "_dom_classes": [],
            "_model_name": "HBoxModel",
            "_view_module": "@jupyter-widgets/controls",
            "_model_module_version": "1.5.0",
            "_view_count": null,
            "_view_module_version": "1.5.0",
            "box_style": "",
            "layout": "IPY_MODEL_ff73841110d5456c9b031e1c67adc5fa",
            "_model_module": "@jupyter-widgets/controls",
            "children": [
              "IPY_MODEL_f45e031ad1c5469bad6fd4b815a9dd50",
              "IPY_MODEL_b707dbac4d984513be526d6dc1846fd8",
              "IPY_MODEL_b10517805c9b49c795d99edd8e532a63"
            ]
          }
        },
        "ff73841110d5456c9b031e1c67adc5fa": {
          "model_module": "@jupyter-widgets/base",
          "model_name": "LayoutModel",
          "model_module_version": "1.2.0",
          "state": {
            "_view_name": "LayoutView",
            "grid_template_rows": null,
            "right": null,
            "justify_content": null,
            "_view_module": "@jupyter-widgets/base",
            "overflow": null,
            "_model_module_version": "1.2.0",
            "_view_count": null,
            "flex_flow": null,
            "width": null,
            "min_width": null,
            "border": null,
            "align_items": null,
            "bottom": null,
            "_model_module": "@jupyter-widgets/base",
            "top": null,
            "grid_column": null,
            "overflow_y": null,
            "overflow_x": null,
            "grid_auto_flow": null,
            "grid_area": null,
            "grid_template_columns": null,
            "flex": null,
            "_model_name": "LayoutModel",
            "justify_items": null,
            "grid_row": null,
            "max_height": null,
            "align_content": null,
            "visibility": null,
            "align_self": null,
            "height": null,
            "min_height": null,
            "padding": null,
            "grid_auto_rows": null,
            "grid_gap": null,
            "max_width": null,
            "order": null,
            "_view_module_version": "1.2.0",
            "grid_template_areas": null,
            "object_position": null,
            "object_fit": null,
            "grid_auto_columns": null,
            "margin": null,
            "display": null,
            "left": null
          }
        },
        "f45e031ad1c5469bad6fd4b815a9dd50": {
          "model_module": "@jupyter-widgets/controls",
          "model_name": "HTMLModel",
          "model_module_version": "1.5.0",
          "state": {
            "_view_name": "HTMLView",
            "style": "IPY_MODEL_e9217ed5e53542cb8478d1bd358b7c02",
            "_dom_classes": [],
            "description": "",
            "_model_name": "HTMLModel",
            "placeholder": "​",
            "_view_module": "@jupyter-widgets/controls",
            "_model_module_version": "1.5.0",
            "value": "100%",
            "_view_count": null,
            "_view_module_version": "1.5.0",
            "description_tooltip": null,
            "_model_module": "@jupyter-widgets/controls",
            "layout": "IPY_MODEL_7ad47b228f284cd6942dbe11d8d7840f"
          }
        },
        "b707dbac4d984513be526d6dc1846fd8": {
          "model_module": "@jupyter-widgets/controls",
          "model_name": "FloatProgressModel",
          "model_module_version": "1.5.0",
          "state": {
            "_view_name": "ProgressView",
            "style": "IPY_MODEL_ec669077c40848eaa72408c2ac9c2577",
            "_dom_classes": [],
            "description": "",
            "_model_name": "FloatProgressModel",
            "bar_style": "success",
            "max": 110,
            "_view_module": "@jupyter-widgets/controls",
            "_model_module_version": "1.5.0",
            "value": 110,
            "_view_count": null,
            "_view_module_version": "1.5.0",
            "orientation": "horizontal",
            "min": 0,
            "description_tooltip": null,
            "_model_module": "@jupyter-widgets/controls",
            "layout": "IPY_MODEL_be0ea8f1b8b643748d5caf780077e172"
          }
        },
        "b10517805c9b49c795d99edd8e532a63": {
          "model_module": "@jupyter-widgets/controls",
          "model_name": "HTMLModel",
          "model_module_version": "1.5.0",
          "state": {
            "_view_name": "HTMLView",
            "style": "IPY_MODEL_b94bb9319e08460bb7441c9369fd698e",
            "_dom_classes": [],
            "description": "",
            "_model_name": "HTMLModel",
            "placeholder": "​",
            "_view_module": "@jupyter-widgets/controls",
            "_model_module_version": "1.5.0",
            "value": " 110/110 [06:09&lt;00:00,  3.37s/it]",
            "_view_count": null,
            "_view_module_version": "1.5.0",
            "description_tooltip": null,
            "_model_module": "@jupyter-widgets/controls",
            "layout": "IPY_MODEL_66802f30fd8c46bc8e763329e43bf67b"
          }
        },
        "e9217ed5e53542cb8478d1bd358b7c02": {
          "model_module": "@jupyter-widgets/controls",
          "model_name": "DescriptionStyleModel",
          "model_module_version": "1.5.0",
          "state": {
            "_view_name": "StyleView",
            "_model_name": "DescriptionStyleModel",
            "description_width": "",
            "_view_module": "@jupyter-widgets/base",
            "_model_module_version": "1.5.0",
            "_view_count": null,
            "_view_module_version": "1.2.0",
            "_model_module": "@jupyter-widgets/controls"
          }
        },
        "7ad47b228f284cd6942dbe11d8d7840f": {
          "model_module": "@jupyter-widgets/base",
          "model_name": "LayoutModel",
          "model_module_version": "1.2.0",
          "state": {
            "_view_name": "LayoutView",
            "grid_template_rows": null,
            "right": null,
            "justify_content": null,
            "_view_module": "@jupyter-widgets/base",
            "overflow": null,
            "_model_module_version": "1.2.0",
            "_view_count": null,
            "flex_flow": null,
            "width": null,
            "min_width": null,
            "border": null,
            "align_items": null,
            "bottom": null,
            "_model_module": "@jupyter-widgets/base",
            "top": null,
            "grid_column": null,
            "overflow_y": null,
            "overflow_x": null,
            "grid_auto_flow": null,
            "grid_area": null,
            "grid_template_columns": null,
            "flex": null,
            "_model_name": "LayoutModel",
            "justify_items": null,
            "grid_row": null,
            "max_height": null,
            "align_content": null,
            "visibility": null,
            "align_self": null,
            "height": null,
            "min_height": null,
            "padding": null,
            "grid_auto_rows": null,
            "grid_gap": null,
            "max_width": null,
            "order": null,
            "_view_module_version": "1.2.0",
            "grid_template_areas": null,
            "object_position": null,
            "object_fit": null,
            "grid_auto_columns": null,
            "margin": null,
            "display": null,
            "left": null
          }
        },
        "ec669077c40848eaa72408c2ac9c2577": {
          "model_module": "@jupyter-widgets/controls",
          "model_name": "ProgressStyleModel",
          "model_module_version": "1.5.0",
          "state": {
            "_view_name": "StyleView",
            "_model_name": "ProgressStyleModel",
            "description_width": "",
            "_view_module": "@jupyter-widgets/base",
            "_model_module_version": "1.5.0",
            "_view_count": null,
            "_view_module_version": "1.2.0",
            "bar_color": null,
            "_model_module": "@jupyter-widgets/controls"
          }
        },
        "be0ea8f1b8b643748d5caf780077e172": {
          "model_module": "@jupyter-widgets/base",
          "model_name": "LayoutModel",
          "model_module_version": "1.2.0",
          "state": {
            "_view_name": "LayoutView",
            "grid_template_rows": null,
            "right": null,
            "justify_content": null,
            "_view_module": "@jupyter-widgets/base",
            "overflow": null,
            "_model_module_version": "1.2.0",
            "_view_count": null,
            "flex_flow": null,
            "width": null,
            "min_width": null,
            "border": null,
            "align_items": null,
            "bottom": null,
            "_model_module": "@jupyter-widgets/base",
            "top": null,
            "grid_column": null,
            "overflow_y": null,
            "overflow_x": null,
            "grid_auto_flow": null,
            "grid_area": null,
            "grid_template_columns": null,
            "flex": null,
            "_model_name": "LayoutModel",
            "justify_items": null,
            "grid_row": null,
            "max_height": null,
            "align_content": null,
            "visibility": null,
            "align_self": null,
            "height": null,
            "min_height": null,
            "padding": null,
            "grid_auto_rows": null,
            "grid_gap": null,
            "max_width": null,
            "order": null,
            "_view_module_version": "1.2.0",
            "grid_template_areas": null,
            "object_position": null,
            "object_fit": null,
            "grid_auto_columns": null,
            "margin": null,
            "display": null,
            "left": null
          }
        },
        "b94bb9319e08460bb7441c9369fd698e": {
          "model_module": "@jupyter-widgets/controls",
          "model_name": "DescriptionStyleModel",
          "model_module_version": "1.5.0",
          "state": {
            "_view_name": "StyleView",
            "_model_name": "DescriptionStyleModel",
            "description_width": "",
            "_view_module": "@jupyter-widgets/base",
            "_model_module_version": "1.5.0",
            "_view_count": null,
            "_view_module_version": "1.2.0",
            "_model_module": "@jupyter-widgets/controls"
          }
        },
        "66802f30fd8c46bc8e763329e43bf67b": {
          "model_module": "@jupyter-widgets/base",
          "model_name": "LayoutModel",
          "model_module_version": "1.2.0",
          "state": {
            "_view_name": "LayoutView",
            "grid_template_rows": null,
            "right": null,
            "justify_content": null,
            "_view_module": "@jupyter-widgets/base",
            "overflow": null,
            "_model_module_version": "1.2.0",
            "_view_count": null,
            "flex_flow": null,
            "width": null,
            "min_width": null,
            "border": null,
            "align_items": null,
            "bottom": null,
            "_model_module": "@jupyter-widgets/base",
            "top": null,
            "grid_column": null,
            "overflow_y": null,
            "overflow_x": null,
            "grid_auto_flow": null,
            "grid_area": null,
            "grid_template_columns": null,
            "flex": null,
            "_model_name": "LayoutModel",
            "justify_items": null,
            "grid_row": null,
            "max_height": null,
            "align_content": null,
            "visibility": null,
            "align_self": null,
            "height": null,
            "min_height": null,
            "padding": null,
            "grid_auto_rows": null,
            "grid_gap": null,
            "max_width": null,
            "order": null,
            "_view_module_version": "1.2.0",
            "grid_template_areas": null,
            "object_position": null,
            "object_fit": null,
            "grid_auto_columns": null,
            "margin": null,
            "display": null,
            "left": null
          }
        }
      }
    }
  },
  "cells": [
    {
      "cell_type": "markdown",
      "metadata": {
        "id": "view-in-github",
        "colab_type": "text"
      },
      "source": [
        "<a href=\"https://colab.research.google.com/github/VimalMollyn/ED6001-Term-Project/blob/colab/Preprocessing/4.%20Save%20patches%20of%20dataset.ipynb\" target=\"_parent\"><img src=\"https://colab.research.google.com/assets/colab-badge.svg\" alt=\"Open In Colab\"/></a>"
      ]
    },
    {
      "cell_type": "code",
      "metadata": {
        "colab": {
          "base_uri": "https://localhost:8080/"
        },
        "id": "Ho0voa_ncgpq",
        "outputId": "14081d78-53d3-4978-e195-4fd060ae2c40"
      },
      "source": [
        "from google.colab import drive\n",
        "drive.mount('/content/drive')"
      ],
      "execution_count": 1,
      "outputs": [
        {
          "output_type": "stream",
          "name": "stdout",
          "text": [
            "Mounted at /content/drive\n"
          ]
        }
      ]
    },
    {
      "cell_type": "code",
      "metadata": {
        "colab": {
          "base_uri": "https://localhost:8080/"
        },
        "id": "mfhTRm7ScpV7",
        "outputId": "39ebe207-8c2b-40cb-ea36-a8d2f7b83a3c"
      },
      "source": [
        "!git clone -b colab https://github.com/VimalMollyn/ED6001-Term-Project.git"
      ],
      "execution_count": 2,
      "outputs": [
        {
          "output_type": "stream",
          "name": "stdout",
          "text": [
            "Cloning into 'ED6001-Term-Project'...\n",
            "remote: Enumerating objects: 189, done.\u001b[K\n",
            "remote: Counting objects: 100% (189/189), done.\u001b[K\n",
            "remote: Compressing objects: 100% (158/158), done.\u001b[K\n",
            "remote: Total 189 (delta 89), reused 74 (delta 24), pack-reused 0\u001b[K\n",
            "Receiving objects: 100% (189/189), 10.12 MiB | 16.06 MiB/s, done.\n",
            "Resolving deltas: 100% (89/89), done.\n"
          ]
        }
      ]
    },
    {
      "cell_type": "code",
      "metadata": {
        "id": "AHXbMDIzc7RC"
      },
      "source": [
        "import numpy as np\n",
        "from pathlib import Path\n",
        "import nibabel as nib\n",
        "import matplotlib.pyplot as plt\n",
        "from tqdm import tqdm_notebook"
      ],
      "execution_count": 3,
      "outputs": []
    },
    {
      "cell_type": "code",
      "metadata": {
        "id": "ONkYjPheqduk"
      },
      "source": [
        "import pandas as pd\n",
        "\n",
        "train = pd.read_csv('/content/ED6001-Term-Project/Preprocessing/train.csv')\n",
        "test = pd.read_csv('/content/ED6001-Term-Project/Preprocessing/test.csv')\n",
        "\n",
        "path_to_data = Path(\"/content/drive/MyDrive/ED6001_MIA_Term_Project/data/\")\n",
        "path_to_noise = Path(\"/content/drive/MyDrive/ED6001_MIA_Term_Project/noisy/\")\n",
        "path_to_data_patches = Path(\"/content/drive/MyDrive/ED6001_MIA_Term_Project/patches/data/\")\n",
        "path_to_noise_patches = Path(\"/content/drive/MyDrive/ED6001_MIA_Term_Project/patches/noisy/\")\n",
        "\n",
        "path_to_data_patches.mkdir(parents=True, exist_ok=True)\n",
        "path_to_noise_patches.mkdir(parents=True, exist_ok=True)"
      ],
      "execution_count": 4,
      "outputs": []
    },
    {
      "cell_type": "code",
      "metadata": {
        "colab": {
          "base_uri": "https://localhost:8080/",
          "height": 335
        },
        "id": "zoIONN3kc_B6",
        "outputId": "0b22e51f-0734-4cf7-a264-36ca060ddd51"
      },
      "source": [
        "# generate sample patch\n",
        "\n",
        "size = 32\n",
        "depth = 6\n",
        "\n",
        "sample_file = path_to_data / train[\"filepath\"].iloc[0]\n",
        "sample_nii_img = nib.load(sample_file)\n",
        "sample_img = sample_nii_img.get_fdata()\n",
        "print(sample_img.shape)\n",
        "\n",
        "middle = sample_img.shape[-1]//2\n",
        "patch = sample_img[128:128+size, 128:128+size, middle-depth//2:middle+depth//2].copy().transpose(2, 0, 1)\n",
        "print(patch.shape)\n",
        "patch = np.reshape(patch, (1, 1, depth, size, size))\n",
        "print(patch.shape)\n",
        "\n",
        "plt.imshow(patch[0, 0, 1])"
      ],
      "execution_count": 5,
      "outputs": [
        {
          "output_type": "stream",
          "name": "stdout",
          "text": [
            "(256, 256, 130)\n",
            "(6, 32, 32)\n",
            "(1, 1, 6, 32, 32)\n"
          ]
        },
        {
          "output_type": "execute_result",
          "data": {
            "text/plain": [
              "<matplotlib.image.AxesImage at 0x7f6a8da16a10>"
            ]
          },
          "metadata": {},
          "execution_count": 5
        },
        {
          "output_type": "display_data",
          "data": {
            "image/png": "[encoded data removed]",
            "text/plain": [
              "<Figure size 432x288 with 1 Axes>"
            ]
          },
          "metadata": {
            "needs_background": "light"
          }
        }
      ]
    },
    {
      "cell_type": "code",
      "metadata": {
        "colab": {
          "base_uri": "https://localhost:8080/",
          "height": 101,
          "referenced_widgets": [
            "723d4a48952148068ec85aa8182184f8",
            "ff73841110d5456c9b031e1c67adc5fa",
            "f45e031ad1c5469bad6fd4b815a9dd50",
            "b707dbac4d984513be526d6dc1846fd8",
            "b10517805c9b49c795d99edd8e532a63",
            "e9217ed5e53542cb8478d1bd358b7c02",
            "7ad47b228f284cd6942dbe11d8d7840f",
            "ec669077c40848eaa72408c2ac9c2577",
            "be0ea8f1b8b643748d5caf780077e172",
            "b94bb9319e08460bb7441c9369fd698e",
            "66802f30fd8c46bc8e763329e43bf67b"
          ]
        },
        "id": "XLtx818igIDI",
        "outputId": "ecf1a6b5-50ab-441e-e5d0-3962ee1bae61"
      },
      "source": [
        "size = 32\n",
        "depth = 6\n",
        "stride = 8\n",
        "\n",
        "\n",
        "files = pd.concat([train['filepath'], test['filepath']])\n",
        "\n",
        "num = 0\n",
        "for file in tqdm_notebook(files):\n",
        "    free_img = nib.load(path_to_data / file).get_fdata()\n",
        "    noised_img = nib.load(path_to_noise / file).get_fdata()\n",
        "    free_img_set = []\n",
        "    noised_img_set = []\n",
        "    height, width, _ = free_img.shape\n",
        "    middle = free_img.shape[-1]//2\n",
        "\n",
        "    for y in range(0, height - size, stride):\n",
        "        for x in range(0, width - size, stride):\n",
        "            free_img_temp = free_img[y : y + size, x : x + size, middle-depth//2:middle+depth//2].copy().transpose(2, 0, 1)\n",
        "            noised_img_temp = noised_img[y : y + size, x : x + size, middle-depth//2:middle+depth//2].copy().transpose(2, 0, 1)\n",
        "            free_img_temp = np.reshape(free_img_temp, (1, 1, depth, size, size))\n",
        "            noised_img_temp = np.reshape(noised_img_temp, (1, 1, depth, size, size))\n",
        "\n",
        "            free_img_set.append(free_img_temp)\n",
        "            noised_img_set.append(noised_img_temp)\n",
        "\n",
        "    num += 1\n",
        "    free_img_set = np.stack(free_img_set, axis=0)\n",
        "    noised_img_set = np.stack(noised_img_set, axis=0)\n",
        "\n",
        "    np.save(path_to_data_patches / f'{num}.npy', free_img_set)\n",
        "    np.save(path_to_noise_patches / f'{num}.npy', noised_img_set)"
      ],
      "execution_count": 6,
      "outputs": [
        {
          "output_type": "stream",
          "name": "stderr",
          "text": [
            "/usr/local/lib/python3.7/dist-packages/ipykernel_launcher.py:9: TqdmDeprecationWarning: This function will be removed in tqdm==5.0.0\n",
            "Please use `tqdm.notebook.tqdm` instead of `tqdm.tqdm_notebook`\n",
            "  if __name__ == '__main__':\n"
          ]
        },
        {
          "output_type": "display_data",
          "data": {
            "application/vnd.jupyter.widget-view+json": {
              "model_id": "723d4a48952148068ec85aa8182184f8",
              "version_minor": 0,
              "version_major": 2
            },
            "text/plain": [
              "  0%|          | 0/110 [00:00<?, ?it/s]"
            ]
          },
          "metadata": {}
        }
      ]
    },
    {
      "cell_type": "code",
      "metadata": {
        "id": "HlnbVZIl4eYY"
      },
      "source": [
        ""
      ],
      "execution_count": null,
      "outputs": []
    }
  ]
}