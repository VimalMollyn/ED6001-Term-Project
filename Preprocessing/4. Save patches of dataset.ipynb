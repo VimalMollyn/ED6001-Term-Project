{
  "nbformat": 4,
  "nbformat_minor": 0,
  "metadata": {
    "colab": {
      "name": "4. Save patches of dataset.ipynb",
      "provenance": [],
      "include_colab_link": true
    },
    "kernelspec": {
      "name": "python3",
      "display_name": "Python 3"
    },
    "language_info": {
      "name": "python"
    },
    "widgets": {
      "application/vnd.jupyter.widget-state+json": {
        "73d7550fbfe04422a08baad701a07907": {
          "model_module": "@jupyter-widgets/controls",
          "model_name": "HBoxModel",
          "model_module_version": "1.5.0",
          "state": {
            "_view_name": "HBoxView",
            "_dom_classes": [],
            "_model_name": "HBoxModel",
            "_view_module": "@jupyter-widgets/controls",
            "_model_module_version": "1.5.0",
            "_view_count": null,
            "_view_module_version": "1.5.0",
            "box_style": "",
            "layout": "IPY_MODEL_5ef64d74ea3f40b781b6237e385ed504",
            "_model_module": "@jupyter-widgets/controls",
            "children": [
              "IPY_MODEL_76e4b48acc7f4caa9a0e069f2d154907",
              "IPY_MODEL_496c6b8b2c26410baa65ef1c3783b202",
              "IPY_MODEL_6567f68a693348dcb8b782d1706f6e86"
            ]
          }
        },
        "5ef64d74ea3f40b781b6237e385ed504": {
          "model_module": "@jupyter-widgets/base",
          "model_name": "LayoutModel",
          "model_module_version": "1.2.0",
          "state": {
            "_view_name": "LayoutView",
            "grid_template_rows": null,
            "right": null,
            "justify_content": null,
            "_view_module": "@jupyter-widgets/base",
            "overflow": null,
            "_model_module_version": "1.2.0",
            "_view_count": null,
            "flex_flow": null,
            "width": null,
            "min_width": null,
            "border": null,
            "align_items": null,
            "bottom": null,
            "_model_module": "@jupyter-widgets/base",
            "top": null,
            "grid_column": null,
            "overflow_y": null,
            "overflow_x": null,
            "grid_auto_flow": null,
            "grid_area": null,
            "grid_template_columns": null,
            "flex": null,
            "_model_name": "LayoutModel",
            "justify_items": null,
            "grid_row": null,
            "max_height": null,
            "align_content": null,
            "visibility": null,
            "align_self": null,
            "height": null,
            "min_height": null,
            "padding": null,
            "grid_auto_rows": null,
            "grid_gap": null,
            "max_width": null,
            "order": null,
            "_view_module_version": "1.2.0",
            "grid_template_areas": null,
            "object_position": null,
            "object_fit": null,
            "grid_auto_columns": null,
            "margin": null,
            "display": null,
            "left": null
          }
        },
        "76e4b48acc7f4caa9a0e069f2d154907": {
          "model_module": "@jupyter-widgets/controls",
          "model_name": "HTMLModel",
          "model_module_version": "1.5.0",
          "state": {
            "_view_name": "HTMLView",
            "style": "IPY_MODEL_52a3fee64b82498ca2b77dfafb152c3d",
            "_dom_classes": [],
            "description": "",
            "_model_name": "HTMLModel",
            "placeholder": "​",
            "_view_module": "@jupyter-widgets/controls",
            "_model_module_version": "1.5.0",
            "value": "100%",
            "_view_count": null,
            "_view_module_version": "1.5.0",
            "description_tooltip": null,
            "_model_module": "@jupyter-widgets/controls",
            "layout": "IPY_MODEL_fc54748d125a4e83b15a288353b3d3db"
          }
        },
        "496c6b8b2c26410baa65ef1c3783b202": {
          "model_module": "@jupyter-widgets/controls",
          "model_name": "FloatProgressModel",
          "model_module_version": "1.5.0",
          "state": {
            "_view_name": "ProgressView",
            "style": "IPY_MODEL_c3b7d5240cba44fbbbce87c5ddf41ce3",
            "_dom_classes": [],
            "description": "",
            "_model_name": "FloatProgressModel",
            "bar_style": "success",
            "max": 110,
            "_view_module": "@jupyter-widgets/controls",
            "_model_module_version": "1.5.0",
            "value": 110,
            "_view_count": null,
            "_view_module_version": "1.5.0",
            "orientation": "horizontal",
            "min": 0,
            "description_tooltip": null,
            "_model_module": "@jupyter-widgets/controls",
            "layout": "IPY_MODEL_7f9b7e107e9f4972bfb70381b4d5ee6f"
          }
        },
        "6567f68a693348dcb8b782d1706f6e86": {
          "model_module": "@jupyter-widgets/controls",
          "model_name": "HTMLModel",
          "model_module_version": "1.5.0",
          "state": {
            "_view_name": "HTMLView",
            "style": "IPY_MODEL_593ec561234f4b88b9307caf25ffc7bb",
            "_dom_classes": [],
            "description": "",
            "_model_name": "HTMLModel",
            "placeholder": "​",
            "_view_module": "@jupyter-widgets/controls",
            "_model_module_version": "1.5.0",
            "value": " 110/110 [08:37&lt;00:00,  5.08s/it]",
            "_view_count": null,
            "_view_module_version": "1.5.0",
            "description_tooltip": null,
            "_model_module": "@jupyter-widgets/controls",
            "layout": "IPY_MODEL_92b584f514ac4a55a5f686537d8d39ab"
          }
        },
        "52a3fee64b82498ca2b77dfafb152c3d": {
          "model_module": "@jupyter-widgets/controls",
          "model_name": "DescriptionStyleModel",
          "model_module_version": "1.5.0",
          "state": {
            "_view_name": "StyleView",
            "_model_name": "DescriptionStyleModel",
            "description_width": "",
            "_view_module": "@jupyter-widgets/base",
            "_model_module_version": "1.5.0",
            "_view_count": null,
            "_view_module_version": "1.2.0",
            "_model_module": "@jupyter-widgets/controls"
          }
        },
        "fc54748d125a4e83b15a288353b3d3db": {
          "model_module": "@jupyter-widgets/base",
          "model_name": "LayoutModel",
          "model_module_version": "1.2.0",
          "state": {
            "_view_name": "LayoutView",
            "grid_template_rows": null,
            "right": null,
            "justify_content": null,
            "_view_module": "@jupyter-widgets/base",
            "overflow": null,
            "_model_module_version": "1.2.0",
            "_view_count": null,
            "flex_flow": null,
            "width": null,
            "min_width": null,
            "border": null,
            "align_items": null,
            "bottom": null,
            "_model_module": "@jupyter-widgets/base",
            "top": null,
            "grid_column": null,
            "overflow_y": null,
            "overflow_x": null,
            "grid_auto_flow": null,
            "grid_area": null,
            "grid_template_columns": null,
            "flex": null,
            "_model_name": "LayoutModel",
            "justify_items": null,
            "grid_row": null,
            "max_height": null,
            "align_content": null,
            "visibility": null,
            "align_self": null,
            "height": null,
            "min_height": null,
            "padding": null,
            "grid_auto_rows": null,
            "grid_gap": null,
            "max_width": null,
            "order": null,
            "_view_module_version": "1.2.0",
            "grid_template_areas": null,
            "object_position": null,
            "object_fit": null,
            "grid_auto_columns": null,
            "margin": null,
            "display": null,
            "left": null
          }
        },
        "c3b7d5240cba44fbbbce87c5ddf41ce3": {
          "model_module": "@jupyter-widgets/controls",
          "model_name": "ProgressStyleModel",
          "model_module_version": "1.5.0",
          "state": {
            "_view_name": "StyleView",
            "_model_name": "ProgressStyleModel",
            "description_width": "",
            "_view_module": "@jupyter-widgets/base",
            "_model_module_version": "1.5.0",
            "_view_count": null,
            "_view_module_version": "1.2.0",
            "bar_color": null,
            "_model_module": "@jupyter-widgets/controls"
          }
        },
        "7f9b7e107e9f4972bfb70381b4d5ee6f": {
          "model_module": "@jupyter-widgets/base",
          "model_name": "LayoutModel",
          "model_module_version": "1.2.0",
          "state": {
            "_view_name": "LayoutView",
            "grid_template_rows": null,
            "right": null,
            "justify_content": null,
            "_view_module": "@jupyter-widgets/base",
            "overflow": null,
            "_model_module_version": "1.2.0",
            "_view_count": null,
            "flex_flow": null,
            "width": null,
            "min_width": null,
            "border": null,
            "align_items": null,
            "bottom": null,
            "_model_module": "@jupyter-widgets/base",
            "top": null,
            "grid_column": null,
            "overflow_y": null,
            "overflow_x": null,
            "grid_auto_flow": null,
            "grid_area": null,
            "grid_template_columns": null,
            "flex": null,
            "_model_name": "LayoutModel",
            "justify_items": null,
            "grid_row": null,
            "max_height": null,
            "align_content": null,
            "visibility": null,
            "align_self": null,
            "height": null,
            "min_height": null,
            "padding": null,
            "grid_auto_rows": null,
            "grid_gap": null,
            "max_width": null,
            "order": null,
            "_view_module_version": "1.2.0",
            "grid_template_areas": null,
            "object_position": null,
            "object_fit": null,
            "grid_auto_columns": null,
            "margin": null,
            "display": null,
            "left": null
          }
        },
        "593ec561234f4b88b9307caf25ffc7bb": {
          "model_module": "@jupyter-widgets/controls",
          "model_name": "DescriptionStyleModel",
          "model_module_version": "1.5.0",
          "state": {
            "_view_name": "StyleView",
            "_model_name": "DescriptionStyleModel",
            "description_width": "",
            "_view_module": "@jupyter-widgets/base",
            "_model_module_version": "1.5.0",
            "_view_count": null,
            "_view_module_version": "1.2.0",
            "_model_module": "@jupyter-widgets/controls"
          }
        },
        "92b584f514ac4a55a5f686537d8d39ab": {
          "model_module": "@jupyter-widgets/base",
          "model_name": "LayoutModel",
          "model_module_version": "1.2.0",
          "state": {
            "_view_name": "LayoutView",
            "grid_template_rows": null,
            "right": null,
            "justify_content": null,
            "_view_module": "@jupyter-widgets/base",
            "overflow": null,
            "_model_module_version": "1.2.0",
            "_view_count": null,
            "flex_flow": null,
            "width": null,
            "min_width": null,
            "border": null,
            "align_items": null,
            "bottom": null,
            "_model_module": "@jupyter-widgets/base",
            "top": null,
            "grid_column": null,
            "overflow_y": null,
            "overflow_x": null,
            "grid_auto_flow": null,
            "grid_area": null,
            "grid_template_columns": null,
            "flex": null,
            "_model_name": "LayoutModel",
            "justify_items": null,
            "grid_row": null,
            "max_height": null,
            "align_content": null,
            "visibility": null,
            "align_self": null,
            "height": null,
            "min_height": null,
            "padding": null,
            "grid_auto_rows": null,
            "grid_gap": null,
            "max_width": null,
            "order": null,
            "_view_module_version": "1.2.0",
            "grid_template_areas": null,
            "object_position": null,
            "object_fit": null,
            "grid_auto_columns": null,
            "margin": null,
            "display": null,
            "left": null
          }
        }
      }
    }
  },
  "cells": [
    {
      "cell_type": "markdown",
      "metadata": {
        "id": "view-in-github",
        "colab_type": "text"
      },
      "source": [
        "<a href=\"https://colab.research.google.com/github/VimalMollyn/ED6001-Term-Project/blob/colab/Preprocessing/4.%20Save%20patches%20of%20dataset.ipynb\" target=\"_parent\"><img src=\"https://colab.research.google.com/assets/colab-badge.svg\" alt=\"Open In Colab\"/></a>"
      ]
    },
    {
      "cell_type": "code",
      "metadata": {
        "colab": {
          "base_uri": "https://localhost:8080/"
        },
        "id": "Ho0voa_ncgpq",
        "outputId": "f2267427-8d8a-42e5-8036-804a178da9c7"
      },
      "source": [
        "from google.colab import drive\n",
        "drive.mount('/content/drive')"
      ],
      "execution_count": 1,
      "outputs": [
        {
          "output_type": "stream",
          "name": "stdout",
          "text": [
            "Mounted at /content/drive\n"
          ]
        }
      ]
    },
    {
      "cell_type": "code",
      "metadata": {
        "colab": {
          "base_uri": "https://localhost:8080/"
        },
        "id": "mfhTRm7ScpV7",
        "outputId": "a1b3b82a-819a-4fd6-9894-616df616dc8a"
      },
      "source": [
        "!git clone -b colab https://github.com/VimalMollyn/ED6001-Term-Project.git"
      ],
      "execution_count": 10,
      "outputs": [
        {
          "output_type": "stream",
          "name": "stdout",
          "text": [
            "Cloning into 'ED6001-Term-Project'...\n",
            "remote: Enumerating objects: 83, done.\u001b[K\n",
            "remote: Counting objects: 100% (83/83), done.\u001b[K\n",
            "remote: Compressing objects: 100% (69/69), done.\u001b[K\n",
            "remote: Total 83 (delta 31), reused 40 (delta 11), pack-reused 0\u001b[K\n",
            "Unpacking objects: 100% (83/83), done.\n"
          ]
        }
      ]
    },
    {
      "cell_type": "code",
      "metadata": {
        "id": "AHXbMDIzc7RC"
      },
      "source": [
        "import numpy as np\n",
        "from pathlib import Path\n",
        "import nibabel as nib\n",
        "import matplotlib.pyplot as plt\n",
        "from tqdm import tqdm_notebook"
      ],
      "execution_count": 1,
      "outputs": []
    },
    {
      "cell_type": "code",
      "metadata": {
        "id": "ONkYjPheqduk"
      },
      "source": [
        "import pandas as pd\n",
        "\n",
        "train = pd.read_csv('/content/ED6001-Term-Project/Preprocessing/train.csv')\n",
        "test = pd.read_csv('/content/ED6001-Term-Project/Preprocessing/test.csv')\n",
        "\n",
        "path_to_data = Path(\"/content/drive/MyDrive/ED6001_MIA_Term_Project/data/\")\n",
        "path_to_noise = Path(\"/content/drive/MyDrive/ED6001_MIA_Term_Project/noisy/\")\n",
        "path_to_data_patches = Path(\"/content/drive/MyDrive/ED6001_MIA_Term_Project/patches/data/\")\n",
        "path_to_noise_patches = Path(\"/content/drive/MyDrive/ED6001_MIA_Term_Project/patches/noisy/\")\n",
        "\n",
        "path_to_data_patches.mkdir(parents=True, exist_ok=True)\n",
        "path_to_noise_patches.mkdir(parents=True, exist_ok=True)"
      ],
      "execution_count": 2,
      "outputs": []
    },
    {
      "cell_type": "code",
      "metadata": {
        "colab": {
          "base_uri": "https://localhost:8080/",
          "height": 334
        },
        "id": "zoIONN3kc_B6",
        "outputId": "139cd24f-33de-44c6-c11e-8de96cb316ea"
      },
      "source": [
        "# generate sample patch\n",
        "\n",
        "size = 32\n",
        "depth = 6\n",
        "\n",
        "sample_file = path_to_data / train[\"filepath\"].iloc[0]\n",
        "sample_nii_img = nib.load(sample_file)\n",
        "sample_img = sample_nii_img.get_fdata()\n",
        "print(sample_img.shape)\n",
        "\n",
        "middle = sample_img.shape[-1]//2\n",
        "patch = sample_img[128:128+size, 128:128+size, middle-depth//2:middle+depth//2].copy().transpose(2, 0, 1)\n",
        "print(patch.shape)\n",
        "patch = np.reshape(patch, (1, 1, depth, size, size))\n",
        "print(patch.shape)\n",
        "\n",
        "plt.imshow(patch[0, 0, 1])"
      ],
      "execution_count": 3,
      "outputs": [
        {
          "output_type": "stream",
          "name": "stdout",
          "text": [
            "(256, 256, 136)\n",
            "(6, 32, 32)\n",
            "(1, 1, 6, 32, 32)\n"
          ]
        },
        {
          "output_type": "execute_result",
          "data": {
            "text/plain": [
              "<matplotlib.image.AxesImage at 0x7fbff16a5b50>"
            ]
          },
          "metadata": {},
          "execution_count": 3
        },
        {
          "output_type": "display_data",
          "data": {
            "image/png": "[encoded data removed]",
            "text/plain": [
              "<Figure size 432x288 with 1 Axes>"
            ]
          },
          "metadata": {
            "needs_background": "light"
          }
        }
      ]
    },
    {
      "cell_type": "code",
      "metadata": {
        "colab": {
          "base_uri": "https://localhost:8080/",
          "height": 100,
          "referenced_widgets": [
            "73d7550fbfe04422a08baad701a07907",
            "5ef64d74ea3f40b781b6237e385ed504",
            "76e4b48acc7f4caa9a0e069f2d154907",
            "496c6b8b2c26410baa65ef1c3783b202",
            "6567f68a693348dcb8b782d1706f6e86",
            "52a3fee64b82498ca2b77dfafb152c3d",
            "fc54748d125a4e83b15a288353b3d3db",
            "c3b7d5240cba44fbbbce87c5ddf41ce3",
            "7f9b7e107e9f4972bfb70381b4d5ee6f",
            "593ec561234f4b88b9307caf25ffc7bb",
            "92b584f514ac4a55a5f686537d8d39ab"
          ]
        },
        "id": "XLtx818igIDI",
        "outputId": "90f40e7d-cdbb-412d-b91c-595b8ee662e0"
      },
      "source": [
        "size = 32\n",
        "depth = 6\n",
        "stride = 8\n",
        "\n",
        "\n",
        "files = pd.concat([train['filepath'], test['filepath']])\n",
        "\n",
        "num = 0\n",
        "for file in tqdm_notebook(files):\n",
        "    free_img = nib.load(path_to_data / file).get_fdata()\n",
        "    noised_img = nib.load(path_to_noise / file).get_fdata()\n",
        "    free_img_set = []\n",
        "    noised_img_set = []\n",
        "    height, width, _ = free_img.shape\n",
        "    middle = free_img.shape[-1]//2\n",
        "\n",
        "    for y in range(0, height - size, stride):\n",
        "        for x in range(0, width - size, stride):\n",
        "            free_img_temp = free_img[y : y + size, x : x + size, middle-depth//2:middle+depth//2].copy().transpose(2, 0, 1)\n",
        "            noised_img_temp = noised_img[y : y + size, x : x + size, middle-depth//2:middle+depth//2].copy().transpose(2, 0, 1)\n",
        "            free_img_temp = np.reshape(free_img_temp, (1, 1, depth, size, size))\n",
        "            noised_img_temp = np.reshape(noised_img_temp, (1, 1, depth, size, size))\n",
        "\n",
        "            free_img_set.append(free_img_temp)\n",
        "            noised_img_set.append(noised_img_temp)\n",
        "\n",
        "    num += 1\n",
        "    free_img_set = np.stack(free_img_set, axis=0)\n",
        "    noised_img_set = np.stack(noised_img_set, axis=0)\n",
        "\n",
        "    np.save(path_to_data_patches / f'{num}.npy', free_img_set)\n",
        "    np.save(path_to_noise_patches / f'{num}.npy', noised_img_set)"
      ],
      "execution_count": 4,
      "outputs": [
        {
          "output_type": "stream",
          "name": "stderr",
          "text": [
            "/usr/local/lib/python3.7/dist-packages/ipykernel_launcher.py:9: TqdmDeprecationWarning: This function will be removed in tqdm==5.0.0\n",
            "Please use `tqdm.notebook.tqdm` instead of `tqdm.tqdm_notebook`\n",
            "  if __name__ == '__main__':\n"
          ]
        },
        {
          "output_type": "display_data",
          "data": {
            "application/vnd.jupyter.widget-view+json": {
              "model_id": "73d7550fbfe04422a08baad701a07907",
              "version_minor": 0,
              "version_major": 2
            },
            "text/plain": [
              "  0%|          | 0/110 [00:00<?, ?it/s]"
            ]
          },
          "metadata": {}
        }
      ]
    },
    {
      "cell_type": "code",
      "metadata": {
        "id": "HlnbVZIl4eYY"
      },
      "source": [
        ""
      ],
      "execution_count": null,
      "outputs": []
    }
  ]
}